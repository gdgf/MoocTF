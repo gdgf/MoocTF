{
 "cells": [
  {
   "cell_type": "markdown",
   "metadata": {},
   "source": [
    "## 滑动平均(影子)\n",
    "\n",
    "* 定义：录了一段时间内模型中所有参数 w 和 b 各自的平均值。利用滑动平均值可以增强模型的泛化能力\n",
    "* 参考链接：https://blog.csdn.net/m0_38106113/article/details/81542863\n",
    "* 计算方法：\n",
    "    影子 = 衰减率 * 影子 +（ 1 - 衰减率） * 参数\n",
    "* 用 Tesnsorflow 函数表示为：\n",
    "    * ema = tf.train.ExponentialMovingAverage(MOVING_AVERAGE_DECAY， global_step)\n",
    "        * 其中， MOVING_AVERAGE_DECAY 表示滑动平均衰减率，一般会赋接近 1 的值， \n",
    "        * global_step 表示当前训练了多少轮。\n",
    "    * ema_op = ema.apply(tf.trainable_variables())\n",
    "        * 其中， ema.apply()函数实现对括号内参数求滑动平均， \n",
    "        * tf.trainable_variables()函数实现把所有待训练参数汇总为列表。\n",
    "    * with tf.control_dependencies([train_step, ema_op]):train_op = tf.no_op(name='train')\n",
    "        * 其中，该函数实现将滑动平均和训练过程同步运行。\n",
    "        * 查看模型中参数的平均值，可以用 ema.average()函数。"
   ]
  },
  {
   "cell_type": "code",
   "execution_count": null,
   "metadata": {},
   "outputs": [],
   "source": []
  }
 ],
 "metadata": {
  "kernelspec": {
   "display_name": "Python 3",
   "language": "python",
   "name": "python3"
  },
  "language_info": {
   "codemirror_mode": {
    "name": "ipython",
    "version": 3
   },
   "file_extension": ".py",
   "mimetype": "text/x-python",
   "name": "python",
   "nbconvert_exporter": "python",
   "pygments_lexer": "ipython3",
   "version": "3.6.8"
  }
 },
 "nbformat": 4,
 "nbformat_minor": 2
}
